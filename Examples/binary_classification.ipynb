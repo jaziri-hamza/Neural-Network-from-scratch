{
 "cells": [
  {
   "cell_type": "markdown",
   "metadata": {},
   "source": [
    "# Simple Binary Classification Using NN\n",
    "we use here the datasets of sklearn (breast cancer) to test our network"
   ]
  },
  {
   "cell_type": "markdown",
   "metadata": {},
   "source": [
    "import necessary modules"
   ]
  },
  {
   "cell_type": "code",
   "execution_count": 1,
   "metadata": {},
   "outputs": [],
   "source": [
    "from sys import path\n",
    "path.append('..')\n",
    "\n",
    "from NN import NN\n",
    "from Layer import Layer\n",
    "\n",
    "from sklearn.datasets import load_breast_cancer # binaryclass\n",
    "from sklearn.model_selection import train_test_split\n",
    "from sklearn.metrics import accuracy_score\n",
    "\n",
    "import matplotlib.pyplot as plt"
   ]
  },
  {
   "cell_type": "markdown",
   "metadata": {},
   "source": [
    "initialize the data"
   ]
  },
  {
   "cell_type": "code",
   "execution_count": 2,
   "metadata": {},
   "outputs": [],
   "source": [
    "# set data\n",
    "data = load_breast_cancer()\n",
    "inputs = data.data\n",
    "targets = data.target.reshape(-1,1)\n",
    "X_train, X_test, Y_train, Y_test = train_test_split(inputs, targets, test_size=0.2)"
   ]
  },
  {
   "cell_type": "markdown",
   "metadata": {},
   "source": [
    "#### Create our network\n",
    "+ set layers\n",
    "+ set the neurons of each layer\n",
    "+ set the activation function of each layer"
   ]
  },
  {
   "cell_type": "code",
   "execution_count": 3,
   "metadata": {},
   "outputs": [],
   "source": [
    "# create the network\n",
    "nn_model = NN(X_train, Y_train)\n",
    "nn_model.add_layer( Layer(32, activation='relu' ) )\n",
    "nn_model.add_layer( Layer(16, activation='sigmoid') )"
   ]
  },
  {
   "cell_type": "markdown",
   "metadata": {},
   "source": [
    "#### fit the model\n",
    "Note: we are not using mini-batch, or stochastic"
   ]
  },
  {
   "cell_type": "code",
   "execution_count": 4,
   "metadata": {},
   "outputs": [
    {
     "name": "stderr",
     "output_type": "stream",
     "text": [
      "../Utils/act_functions.py:7: RuntimeWarning: overflow encountered in exp\n",
      "  return lambda X: 1/ (1+np.exp(-X))\n"
     ]
    }
   ],
   "source": [
    "#fit the network\n",
    "nn_model.fit(iteration=1000, learning_rate=0.0001)"
   ]
  },
  {
   "cell_type": "markdown",
   "metadata": {},
   "source": [
    "#### Plot the cost function on each 100 iteration"
   ]
  },
  {
   "cell_type": "code",
   "execution_count": 5,
   "metadata": {},
   "outputs": [
    {
     "data": {
      "image/png": "[encoded data removed]",
      "text/plain": [
       "<Figure size 432x288 with 1 Axes>"
      ]
     },
     "metadata": {
      "needs_background": "light"
     },
     "output_type": "display_data"
    }
   ],
   "source": [
    "# plot cost function\n",
    "plt.plot(nn_model._costs)\n",
    "plt.show()"
   ]
  },
  {
   "cell_type": "markdown",
   "metadata": {},
   "source": [
    "#### Predict some data"
   ]
  },
  {
   "cell_type": "code",
   "execution_count": 6,
   "metadata": {},
   "outputs": [
    {
     "name": "stdout",
     "output_type": "stream",
     "text": [
      "(455, 32)\n",
      "(114, 32)\n"
     ]
    }
   ],
   "source": [
    "# predict some data\n",
    "Y_train_pred = nn_model.predict(X_train)\n",
    "Y_test_pred = nn_model.predict(X_test)"
   ]
  },
  {
   "cell_type": "markdown",
   "metadata": {},
   "source": [
    "#### check the accuarcy of our model"
   ]
  },
  {
   "cell_type": "code",
   "execution_count": 7,
   "metadata": {},
   "outputs": [
    {
     "name": "stdout",
     "output_type": "stream",
     "text": [
      "score of train 0.9186813186813186\n",
      "score of test 0.9385964912280702\n"
     ]
    }
   ],
   "source": [
    "print(\"score of train\", accuracy_score(Y_train, Y_train_pred) )\n",
    "print(\"score of test\", accuracy_score(Y_test, Y_test_pred))"
   ]
  },
  {
   "cell_type": "markdown",
   "metadata": {},
   "source": [
    "###### Honestly i don't expect this result, \n",
    "i'm not using any of regularization term, any of optimization algorithm and still get great result"
   ]
  },
  {
   "cell_type": "code",
   "execution_count": null,
   "metadata": {},
   "outputs": [],
   "source": []
  }
 ],
 "metadata": {
  "kernelspec": {
   "display_name": "Python 3",
   "language": "python",
   "name": "python3"
  },
  "language_info": {
   "codemirror_mode": {
    "name": "ipython",
    "version": 3
   },
   "file_extension": ".py",
   "mimetype": "text/x-python",
   "name": "python",
   "nbconvert_exporter": "python",
   "pygments_lexer": "ipython3",
   "version": "3.8.2"
  }
 },
 "nbformat": 4,
 "nbformat_minor": 4
}
