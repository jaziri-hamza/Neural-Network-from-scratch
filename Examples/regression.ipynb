{
 "cells": [
  {
   "cell_type": "markdown",
   "metadata": {},
   "source": [
    "# Simple Regression Model Using NN\n",
    "we use here the datasets of sklearn (boston house) to test our network"
   ]
  },
  {
   "cell_type": "markdown",
   "metadata": {},
   "source": [
    "import necessary modules"
   ]
  },
  {
   "cell_type": "code",
   "execution_count": 1,
   "metadata": {},
   "outputs": [],
   "source": [
    "from sys import path\n",
    "path.append('..')\n",
    "\n",
    "from NN import NN\n",
    "from Layer import Layer\n",
    "\n",
    "from sklearn.datasets import load_boston # regression\n",
    "from sklearn.model_selection import train_test_split\n",
    "from sklearn.metrics import mean_absolute_error\n",
    "\n",
    "import matplotlib.pyplot as plt"
   ]
  },
  {
   "cell_type": "markdown",
   "metadata": {},
   "source": [
    "initialize the data"
   ]
  },
  {
   "cell_type": "code",
   "execution_count": 2,
   "metadata": {},
   "outputs": [],
   "source": [
    "# set data\n",
    "data = load_boston()\n",
    "inputs = data.data\n",
    "targets = data.target.reshape(-1,1)\n",
    "X_train, X_test, Y_train, Y_test = train_test_split(inputs, targets, test_size=0.2)"
   ]
  },
  {
   "cell_type": "markdown",
   "metadata": {},
   "source": [
    "#### Create our network\n",
    "+ set layers\n",
    "+ set the neurons of each layer\n",
    "+ set the activation function of each layer"
   ]
  },
  {
   "cell_type": "code",
   "execution_count": 143,
   "metadata": {},
   "outputs": [],
   "source": [
    "# create the network\n",
    "nn_model = NN(X_train, Y_train, output_activation='no_func')\n",
    "nn_model.add_layer( Layer(32, activation='relu' ) )\n",
    "nn_model.add_layer( Layer(32, activation='relu' ) )"
   ]
  },
  {
   "cell_type": "markdown",
   "metadata": {},
   "source": [
    "#### fit the model\n",
    "Note: i'm not using mini-batch, or stochastic\n",
    "Here i'm using a huge iteration versus data amount i have\n",
    "and very small learning_rate for don't get Overflow calculation"
   ]
  },
  {
   "cell_type": "code",
   "execution_count": 144,
   "metadata": {},
   "outputs": [],
   "source": [
    "#fit the network\n",
    "nn_model.fit(iteration=2000, learning_rate=0.0000001)"
   ]
  },
  {
   "cell_type": "markdown",
   "metadata": {},
   "source": [
    "#### Plot the cost function on each 100 iteration"
   ]
  },
  {
   "cell_type": "code",
   "execution_count": 145,
   "metadata": {},
   "outputs": [
    {
     "data": {
      "image/png": "[encoded data removed]",
      "text/plain": [
       "<Figure size 432x288 with 1 Axes>"
      ]
     },
     "metadata": {
      "needs_background": "light"
     },
     "output_type": "display_data"
    }
   ],
   "source": [
    "# plot cost function\n",
    "plt.plot(nn_model._costs)\n",
    "plt.show()"
   ]
  },
  {
   "cell_type": "code",
   "execution_count": 146,
   "metadata": {},
   "outputs": [],
   "source": [
    "#### Predict some data"
   ]
  },
  {
   "cell_type": "code",
   "execution_count": 147,
   "metadata": {},
   "outputs": [],
   "source": [
    "# predict some data\n",
    "Y_train_pred = nn_model.predict(X_train)\n",
    "Y_test_pred = nn_model.predict(X_test)"
   ]
  },
  {
   "cell_type": "code",
   "execution_count": 151,
   "metadata": {},
   "outputs": [
    {
     "name": "stdout",
     "output_type": "stream",
     "text": [
      "score of train 5.5693506397526535\n",
      "score of test 4.605342499529855\n"
     ]
    }
   ],
   "source": [
    "print(\"score of train\", mean_absolute_error(Y_train, Y_train_pred) )\n",
    "print(\"score of test\", mean_absolute_error(Y_test, Y_test_pred))"
   ]
  },
  {
   "cell_type": "markdown",
   "metadata": {},
   "source": [
    "* Note: I try a lot of layers and activations functions  can't get result better than this"
   ]
  },
  {
   "cell_type": "code",
   "execution_count": null,
   "metadata": {},
   "outputs": [],
   "source": []
  }
 ],
 "metadata": {
  "kernelspec": {
   "display_name": "Python 3",
   "language": "python",
   "name": "python3"
  },
  "language_info": {
   "codemirror_mode": {
    "name": "ipython",
    "version": 3
   },
   "file_extension": ".py",
   "mimetype": "text/x-python",
   "name": "python",
   "nbconvert_exporter": "python",
   "pygments_lexer": "ipython3",
   "version": "3.8.2"
  }
 },
 "nbformat": 4,
 "nbformat_minor": 4
}
